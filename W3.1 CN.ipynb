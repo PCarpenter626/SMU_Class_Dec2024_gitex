{
 "cells": [
  {
   "cell_type": "code",
   "execution_count": null,
   "id": "3cfd3cc6-9fd3-4d5a-ba5f-2a05286ecb27",
   "metadata": {},
   "outputs": [],
   "source": [
    "# a single line comment in puthon is just a hashtag before it"
   ]
  },
  {
   "cell_type": "code",
   "execution_count": null,
   "id": "1b9dd867-699c-4619-b61d-d00e8c03b96d",
   "metadata": {},
   "outputs": [],
   "source": [
    "\"\"\"\n",
    "this \n",
    "is \n",
    "your\n",
    "multi line \n",
    "commenting \n",
    "anything in between those 3 quotations is a comment, not a code cell\n",
    "\"\"\"\n"
   ]
  },
  {
   "cell_type": "markdown",
   "id": "b1c3b983-d5b3-4a64-8712-23161f599202",
   "metadata": {},
   "source": [
    "import pandas as pd\n",
    "\n",
    "#to make this the markdown, just select the markdown"
   ]
  },
  {
   "cell_type": "code",
   "execution_count": null,
   "id": "68863667-c249-4e6a-a8f3-10f1d36e366e",
   "metadata": {},
   "outputs": [],
   "source": [
    "\"\"\"\n",
    "to run your code in notebook\n",
    "Ctrl/Command + enter, it runs the code and keeps the cursor where it was\n",
    "shift + enter, it runs to the code and goes to the next code cell\n",
    "\n",
    "\"\"\""
   ]
  },
  {
   "cell_type": "markdown",
   "id": "35b6df17-0f4e-4a64-8599-702e7645ec11",
   "metadata": {},
   "source": [
    "# How to Print"
   ]
  },
  {
   "cell_type": "code",
   "execution_count": 12,
   "id": "bda8b491-12cb-4513-8b33-e54f2b8c2a6c",
   "metadata": {},
   "outputs": [],
   "source": [
    "z = 8 "
   ]
  },
  {
   "cell_type": "code",
   "execution_count": 10,
   "id": "09ef8023-83a1-4820-b544-afeee26d0f78",
   "metadata": {},
   "outputs": [],
   "source": [
    "y = 7"
   ]
  },
  {
   "cell_type": "code",
   "execution_count": 8,
   "id": "754bd227-258a-4eee-b593-5ff8b936a5f9",
   "metadata": {},
   "outputs": [],
   "source": [
    "planet = \"Earth\" #planet is a variable that is holding a string value\n",
    "diameter = 12742  #diameter is a variable that is holding an integer value \n",
    "\n"
   ]
  },
  {
   "cell_type": "code",
   "execution_count": 14,
   "id": "ce6faece-bd5a-41e6-a43e-f9aaf341f552",
   "metadata": {
    "collapsed": true,
    "jupyter": {
     "outputs_hidden": true
    }
   },
   "outputs": [
    {
     "data": {
      "text/plain": [
       "12742"
      ]
     },
     "execution_count": 14,
     "metadata": {},
     "output_type": "execute_result"
    }
   ],
   "source": [
    "diameter "
   ]
  },
  {
   "cell_type": "raw",
   "id": "dc232ce7-b7c5-41b5-9199-ab73cb48cf35",
   "metadata": {},
   "source": [
    "diameter"
   ]
  },
  {
   "cell_type": "code",
   "execution_count": 16,
   "id": "b3eeb082-ece7-49b2-8323-c3846b7838cd",
   "metadata": {},
   "outputs": [
    {
     "data": {
      "text/plain": [
       "int"
      ]
     },
     "execution_count": 16,
     "metadata": {},
     "output_type": "execute_result"
    }
   ],
   "source": [
    "type(diameter) # int is integer"
   ]
  },
  {
   "cell_type": "code",
   "execution_count": 18,
   "id": "18aeb719-6321-4082-afb6-c53285cf43cb",
   "metadata": {},
   "outputs": [
    {
     "data": {
      "text/plain": [
       "str"
      ]
     },
     "execution_count": 18,
     "metadata": {},
     "output_type": "execute_result"
    }
   ],
   "source": [
    "type(planet) # str is a string or text "
   ]
  },
  {
   "cell_type": "code",
   "execution_count": 20,
   "id": "c5fe83e1-10ea-4fbc-8b01-7a7eb0438374",
   "metadata": {},
   "outputs": [
    {
     "name": "stdout",
     "output_type": "stream",
     "text": [
      "12742\n"
     ]
    }
   ],
   "source": [
    "print(diameter)"
   ]
  },
  {
   "cell_type": "code",
   "execution_count": 22,
   "id": "aac337b6-8984-43e4-a03e-a0c3cdb691d7",
   "metadata": {},
   "outputs": [
    {
     "data": {
      "text/plain": [
       "'Earth'"
      ]
     },
     "execution_count": 22,
     "metadata": {},
     "output_type": "execute_result"
    }
   ],
   "source": [
    "planet"
   ]
  },
  {
   "cell_type": "code",
   "execution_count": 26,
   "id": "0ce490b2-ba78-4836-92fa-bb548fa86bcf",
   "metadata": {},
   "outputs": [
    {
     "name": "stdout",
     "output_type": "stream",
     "text": [
      "the diameter of Earth is 12742\n"
     ]
    }
   ],
   "source": [
    "#first was of printing \n",
    "print(\"the diameter of {variable1} is {variable2}\". format(variable1 = planet, variable2 = diameter))"
   ]
  },
  {
   "cell_type": "code",
   "execution_count": 28,
   "id": "7f473dcd-f7a7-4de8-92b9-75bcd2107824",
   "metadata": {},
   "outputs": [
    {
     "name": "stdout",
     "output_type": "stream",
     "text": [
      "the diameter of Earth is 12742\n"
     ]
    }
   ],
   "source": [
    "# second way of printing\n",
    "\n",
    "print(\"the diameter of \" + planet + \" is \" + str(diameter)) #allows you to print numbers as a string\n",
    "\n",
    "#since I am trying to concanetate string with an integer, it wont work\n",
    "\n",
    "#"
   ]
  },
  {
   "cell_type": "code",
   "execution_count": 32,
   "id": "25ca20e6-66f6-4040-b379-9154446c47aa",
   "metadata": {
    "collapsed": true,
    "jupyter": {
     "outputs_hidden": true
    }
   },
   "outputs": [
    {
     "name": "stdout",
     "output_type": "stream",
     "text": [
      "the diameter of Earth is 12742\n"
     ]
    }
   ],
   "source": [
    "#3rd way of printing \n",
    "# f-string\n",
    "\n",
    "print(f\"the diameter of {planet} is {diameter}\") "
   ]
  },
  {
   "cell_type": "markdown",
   "id": "ce303d64-ad13-4874-8732-3101f594c3e4",
   "metadata": {},
   "source": [
    "# Data Types "
   ]
  },
  {
   "cell_type": "code",
   "execution_count": null,
   "id": "c30e3793-838b-4d16-8c07-7edcc838d4e4",
   "metadata": {},
   "outputs": [],
   "source": [
    "\"\"\"\n",
    "Numerical: int, float\n",
    "boolean: bool             True False\n",
    "set: set                  Set()  {}   {set cannot have duplicates}   {sets only contains the values, not the keys\n",
    "string/text: str          str() '' \"\"\n",
    "tuple: tuple              tuple()   ()\n",
    "list: list                list ()  []\n",
    "dictionary: dict          dict()  {\"Key\": \"value\"}\n",
    "\n",
    "some notes: \n",
    "sets cannot have duplications\n",
    "tuple cannot be mutated\n",
    "list can contain mix data types and can be mutated\n",
    "dictionary is also called key-vaue pair, or in javascript, it is called object\n",
    "json is another key-value pair example.\n",
    "###\n",
    "\n"
   ]
  },
  {
   "cell_type": "markdown",
   "id": "2da57521-ea0f-4667-8262-0676c7a11259",
   "metadata": {},
   "source": [
    "### Numerical "
   ]
  },
  {
   "cell_type": "code",
   "execution_count": 42,
   "id": "bd8b31c4-ae3c-48c8-b701-58a629d3c7be",
   "metadata": {},
   "outputs": [],
   "source": [
    "a = 5"
   ]
  },
  {
   "cell_type": "code",
   "execution_count": 44,
   "id": "f0c3f0e8-5163-4bdc-9779-0bd2aa4ce064",
   "metadata": {},
   "outputs": [
    {
     "data": {
      "text/plain": [
       "int"
      ]
     },
     "execution_count": 44,
     "metadata": {},
     "output_type": "execute_result"
    }
   ],
   "source": [
    "type(a) "
   ]
  },
  {
   "cell_type": "code",
   "execution_count": 46,
   "id": "7222a02d-06ea-4a0a-bcd3-1329346ffbba",
   "metadata": {},
   "outputs": [],
   "source": [
    "b = 5.8"
   ]
  },
  {
   "cell_type": "code",
   "execution_count": 48,
   "id": "f3e198a5-7f9c-43da-bf64-d1525e360a58",
   "metadata": {},
   "outputs": [
    {
     "data": {
      "text/plain": [
       "float"
      ]
     },
     "execution_count": 48,
     "metadata": {},
     "output_type": "execute_result"
    }
   ],
   "source": [
    "type(b)"
   ]
  },
  {
   "cell_type": "code",
   "execution_count": 50,
   "id": "8f15af55-129b-401e-9dee-e7f9dd754d9f",
   "metadata": {},
   "outputs": [
    {
     "data": {
      "text/plain": [
       "5"
      ]
     },
     "execution_count": 50,
     "metadata": {},
     "output_type": "execute_result"
    }
   ],
   "source": [
    "int(b) #convert float b to an integer b, and it floors the value"
   ]
  },
  {
   "cell_type": "code",
   "execution_count": 52,
   "id": "21cd1e6f-43f6-448c-83d6-826127542556",
   "metadata": {},
   "outputs": [
    {
     "data": {
      "text/plain": [
       "5.0"
      ]
     },
     "execution_count": 52,
     "metadata": {},
     "output_type": "execute_result"
    }
   ],
   "source": [
    "float(a) #convert integer a to a float b, and it adds 0 as a decimal "
   ]
  },
  {
   "cell_type": "markdown",
   "id": "caf5875a-492c-4fcf-a051-e834c8ff3076",
   "metadata": {},
   "source": [
    "boolean "
   ]
  },
  {
   "cell_type": "code",
   "execution_count": 56,
   "id": "b60a13bc-3903-4b3c-b372-4c285c1b5739",
   "metadata": {},
   "outputs": [],
   "source": [
    "c = False"
   ]
  },
  {
   "cell_type": "code",
   "execution_count": 58,
   "id": "398db2f9-cd70-4ec7-8fb7-6e44e5a5619d",
   "metadata": {},
   "outputs": [],
   "source": [
    "d = True"
   ]
  },
  {
   "cell_type": "code",
   "execution_count": 60,
   "id": "a2327a1c-ef6a-488b-b6b2-32ac2777a894",
   "metadata": {},
   "outputs": [
    {
     "data": {
      "text/plain": [
       "bool"
      ]
     },
     "execution_count": 60,
     "metadata": {},
     "output_type": "execute_result"
    }
   ],
   "source": [
    "type(c)"
   ]
  },
  {
   "cell_type": "markdown",
   "id": "040b42d3-179e-4753-b927-03fa67b8e5b5",
   "metadata": {},
   "source": [
    "### Sets"
   ]
  },
  {
   "cell_type": "code",
   "execution_count": 65,
   "id": "52d1853d-353d-4579-9bee-92e8c9c177a4",
   "metadata": {},
   "outputs": [],
   "source": [
    "my_set = {1,2,3,4,4,5,1,2, \"a\", \"b\", \"c\", \"a\", 7, a, b, c, d}"
   ]
  },
  {
   "cell_type": "code",
   "execution_count": 67,
   "id": "9454ae07-0611-4e75-ad23-8dac8b16ca56",
   "metadata": {},
   "outputs": [
    {
     "data": {
      "text/plain": [
       "set"
      ]
     },
     "execution_count": 67,
     "metadata": {},
     "output_type": "execute_result"
    }
   ],
   "source": [
    "type(my_set)"
   ]
  },
  {
   "cell_type": "markdown",
   "id": "69ac0599-a04e-41d3-8927-d6d5c0ade97c",
   "metadata": {},
   "source": [
    "my_set"
   ]
  },
  {
   "cell_type": "code",
   "execution_count": 70,
   "id": "6e8eb014-0f87-4735-b0e0-33cdf947a58c",
   "metadata": {},
   "outputs": [
    {
     "data": {
      "text/plain": [
       "{1, 2, 3, 4, 5, 5.8, 7, False, 'a', 'b', 'c'}"
      ]
     },
     "execution_count": 70,
     "metadata": {},
     "output_type": "execute_result"
    }
   ],
   "source": [
    "my_set"
   ]
  },
  {
   "cell_type": "code",
   "execution_count": null,
   "id": "88278f10-f146-4795-b30e-f0c4164a8942",
   "metadata": {},
   "outputs": [],
   "source": [
    "# Question: what was the value of d\n",
    "# value of d is True\n",
    "# True = 1\n",
    "# False = 0"
   ]
  },
  {
   "cell_type": "code",
   "execution_count": 72,
   "id": "21abf974-6968-44c7-b0ee-c63111289dfe",
   "metadata": {},
   "outputs": [
    {
     "data": {
      "text/plain": [
       "4381482768"
      ]
     },
     "execution_count": 72,
     "metadata": {},
     "output_type": "execute_result"
    }
   ],
   "source": [
    "id(hash(1))"
   ]
  },
  {
   "cell_type": "code",
   "execution_count": 74,
   "id": "011c296f-7f07-424a-9c3c-9e3941c1b62a",
   "metadata": {},
   "outputs": [
    {
     "data": {
      "text/plain": [
       "4381482768"
      ]
     },
     "execution_count": 74,
     "metadata": {},
     "output_type": "execute_result"
    }
   ],
   "source": [
    "id(hash(d))"
   ]
  },
  {
   "cell_type": "code",
   "execution_count": 76,
   "id": "8f9ee7f3-7420-4279-b2cf-6205bc2b1004",
   "metadata": {},
   "outputs": [
    {
     "data": {
      "text/plain": [
       "4381482736"
      ]
     },
     "execution_count": 76,
     "metadata": {},
     "output_type": "execute_result"
    }
   ],
   "source": [
    "id(hash(c))"
   ]
  },
  {
   "cell_type": "code",
   "execution_count": 78,
   "id": "4af8d8e9-567e-4c67-a9a0-b03c96c1810f",
   "metadata": {},
   "outputs": [
    {
     "data": {
      "text/plain": [
       "4381482736"
      ]
     },
     "execution_count": 78,
     "metadata": {},
     "output_type": "execute_result"
    }
   ],
   "source": [
    "id(hash(0))"
   ]
  },
  {
   "cell_type": "code",
   "execution_count": 80,
   "id": "22bc05ca-4bc9-4138-bb65-5c5a64163ff2",
   "metadata": {},
   "outputs": [],
   "source": [
    "my_set.add(\"Patrick\")"
   ]
  },
  {
   "cell_type": "code",
   "execution_count": 82,
   "id": "2043470f-ee15-443b-988c-87060048314d",
   "metadata": {},
   "outputs": [
    {
     "data": {
      "text/plain": [
       "{1, 2, 3, 4, 5, 5.8, 7, False, 'Patrick', 'a', 'b', 'c'}"
      ]
     },
     "execution_count": 82,
     "metadata": {},
     "output_type": "execute_result"
    }
   ],
   "source": [
    "my_set"
   ]
  },
  {
   "cell_type": "markdown",
   "id": "58c56580-aaa8-4acf-9471-90a9fff2a2bf",
   "metadata": {},
   "source": [
    "my_set.pop() "
   ]
  },
  {
   "cell_type": "code",
   "execution_count": 85,
   "id": "fc85f1f4-3a42-4824-884e-6dc1c30d71fe",
   "metadata": {},
   "outputs": [
    {
     "data": {
      "text/plain": [
       "False"
      ]
     },
     "execution_count": 85,
     "metadata": {},
     "output_type": "execute_result"
    }
   ],
   "source": [
    "my_set.pop()"
   ]
  },
  {
   "cell_type": "code",
   "execution_count": 87,
   "id": "5b8953ab-22b1-4e3f-9961-f862d1f97747",
   "metadata": {},
   "outputs": [],
   "source": [
    "my_set.remove(\"Patrick\")"
   ]
  },
  {
   "cell_type": "code",
   "execution_count": 89,
   "id": "af0b2060-8f72-4071-a48d-27b983727211",
   "metadata": {},
   "outputs": [
    {
     "data": {
      "text/plain": [
       "{1, 2, 3, 4, 5, 5.8, 7, 'a', 'b', 'c'}"
      ]
     },
     "execution_count": 89,
     "metadata": {},
     "output_type": "execute_result"
    }
   ],
   "source": [
    "my_set"
   ]
  },
  {
   "cell_type": "code",
   "execution_count": 91,
   "id": "d8e39e15-6451-4916-9561-c7c2948613c9",
   "metadata": {},
   "outputs": [],
   "source": [
    "my_set2 = [1,2, \"k\", \"l\", \"o\"]"
   ]
  },
  {
   "cell_type": "code",
   "execution_count": 99,
   "id": "320a4d74-aae0-4178-a019-03324dfaeef9",
   "metadata": {},
   "outputs": [],
   "source": [
    "new_set = my_set.intersection(my_set2)"
   ]
  },
  {
   "cell_type": "code",
   "execution_count": 101,
   "id": "65279e98-0c01-4d67-bf08-65bb0fb4d6b2",
   "metadata": {},
   "outputs": [
    {
     "data": {
      "text/plain": [
       "{1, 2}"
      ]
     },
     "execution_count": 101,
     "metadata": {},
     "output_type": "execute_result"
    }
   ],
   "source": [
    "new_set "
   ]
  },
  {
   "cell_type": "code",
   "execution_count": 109,
   "id": "bc459831-b4be-4c03-a878-bf81d338f817",
   "metadata": {},
   "outputs": [
    {
     "data": {
      "text/plain": [
       "{1, 2, 3, 4, 5, 5.8, 7, 'a', 'b', 'c'}"
      ]
     },
     "execution_count": 109,
     "metadata": {},
     "output_type": "execute_result"
    }
   ],
   "source": [
    "my_set"
   ]
  },
  {
   "cell_type": "markdown",
   "id": "2a5d7a42-78e2-4572-a844-762c1ceb9b21",
   "metadata": {},
   "source": [
    "### Tuple"
   ]
  },
  {
   "cell_type": "code",
   "execution_count": 114,
   "id": "82108ced-a5f5-4cae-9c20-94a7654d3480",
   "metadata": {},
   "outputs": [],
   "source": [
    "my_tuple = (0,1,2,3,4,4,5,1,2, \"a\", \"b\", \"c\", \"a\", 7, a, b, c, d)"
   ]
  },
  {
   "cell_type": "code",
   "execution_count": 116,
   "id": "e7b9e387-0252-4f7d-9e38-f545f9934bee",
   "metadata": {},
   "outputs": [
    {
     "data": {
      "text/plain": [
       "(0, 1, 2, 3, 4, 4, 5, 1, 2, 'a', 'b', 'c', 'a', 7, 5, 5.8, False, True)"
      ]
     },
     "execution_count": 116,
     "metadata": {},
     "output_type": "execute_result"
    }
   ],
   "source": [
    "my_tuple"
   ]
  },
  {
   "cell_type": "code",
   "execution_count": 120,
   "id": "529a5b28-5b4d-47ae-bd0c-12dfbb14dd86",
   "metadata": {},
   "outputs": [
    {
     "data": {
      "text/plain": [
       "'\\nWhen you create a set, it returns the values in ascending and alpha order\\n'"
      ]
     },
     "execution_count": 120,
     "metadata": {},
     "output_type": "execute_result"
    }
   ],
   "source": [
    "\"\"\"\n",
    "When you create a SET, it returns the values in ascending and alpha order\n",
    "When you create a TUPLE, it returns the values as is and doesn't change the order\n",
    "\"\"\""
   ]
  },
  {
   "cell_type": "code",
   "execution_count": 122,
   "id": "65f44df6-4914-46df-bafc-ded60325a371",
   "metadata": {},
   "outputs": [
    {
     "data": {
      "text/plain": [
       "2"
      ]
     },
     "execution_count": 122,
     "metadata": {},
     "output_type": "execute_result"
    }
   ],
   "source": [
    "my_tuple[2]"
   ]
  },
  {
   "cell_type": "code",
   "execution_count": 124,
   "id": "07d8a3f5-605f-46fd-95e7-78462a1f7b4d",
   "metadata": {},
   "outputs": [
    {
     "data": {
      "text/plain": [
       "3"
      ]
     },
     "execution_count": 124,
     "metadata": {},
     "output_type": "execute_result"
    }
   ],
   "source": [
    "my_tuple.count(1)\n",
    "#how many times the value 1 appears in the tuple"
   ]
  },
  {
   "cell_type": "code",
   "execution_count": 126,
   "id": "0920dcf1-3572-40c0-8c51-8b4aa292bf84",
   "metadata": {},
   "outputs": [
    {
     "data": {
      "text/plain": [
       "9"
      ]
     },
     "execution_count": 126,
     "metadata": {},
     "output_type": "execute_result"
    }
   ],
   "source": [
    "my_tuple.index(\"a\")\n",
    "# index Location of \"a\" appearing first time in the tuple"
   ]
  },
  {
   "cell_type": "code",
   "execution_count": 130,
   "id": "ab194b0a-b271-488b-8226-2af7048d65fb",
   "metadata": {},
   "outputs": [],
   "source": [
    "my_tuple2 = my_tuple + (\"Patrick\" , \"Liza\", 2022)"
   ]
  },
  {
   "cell_type": "code",
   "execution_count": 134,
   "id": "7c3df3f9-b9a1-4f42-81da-6e3b214f3a94",
   "metadata": {
    "collapsed": true,
    "jupyter": {
     "outputs_hidden": true
    }
   },
   "outputs": [
    {
     "name": "stdout",
     "output_type": "stream",
     "text": [
      "(0, 1, 2, 3, 4, 4, 5, 1, 2, 'a', 'b', 'c', 'a', 7, 5, 5.8, False, True, 'Patrick', 'Liza', 2022)\n"
     ]
    }
   ],
   "source": [
    "print(my_tuple2)"
   ]
  },
  {
   "cell_type": "markdown",
   "id": "8016044a-9073-4f50-b319-df2268de6a14",
   "metadata": {},
   "source": [
    "### String "
   ]
  },
  {
   "cell_type": "code",
   "execution_count": 137,
   "id": "775ffa1f-b922-44d1-a001-83645024510c",
   "metadata": {},
   "outputs": [],
   "source": [
    "my_str = \"  python IS nice: % ^ @ 1 2 3  i like it \""
   ]
  },
  {
   "cell_type": "code",
   "execution_count": 139,
   "id": "b1fcf962-13bc-4a92-b828-a051f659de19",
   "metadata": {},
   "outputs": [
    {
     "data": {
      "text/plain": [
       "str"
      ]
     },
     "execution_count": 139,
     "metadata": {},
     "output_type": "execute_result"
    }
   ],
   "source": [
    "type(my_str) "
   ]
  },
  {
   "cell_type": "code",
   "execution_count": 141,
   "id": "3be5ec1a-681e-49c2-b091-c45402530743",
   "metadata": {},
   "outputs": [
    {
     "name": "stdout",
     "output_type": "stream",
     "text": [
      "  python IS nice: % ^ @ 1 2 3  i like it \n"
     ]
    }
   ],
   "source": [
    "print(my_str)"
   ]
  },
  {
   "cell_type": "code",
   "execution_count": 143,
   "id": "d16df32c-5d16-481f-9d6b-f781a87412ab",
   "metadata": {},
   "outputs": [
    {
     "data": {
      "text/plain": [
       "' '"
      ]
     },
     "execution_count": 143,
     "metadata": {},
     "output_type": "execute_result"
    }
   ],
   "source": [
    "my_str[0]"
   ]
  },
  {
   "cell_type": "code",
   "execution_count": 147,
   "id": "3c0af615-3a97-4709-8214-77428df9da43",
   "metadata": {},
   "outputs": [
    {
     "data": {
      "text/plain": [
       "'p'"
      ]
     },
     "execution_count": 147,
     "metadata": {},
     "output_type": "execute_result"
    }
   ],
   "source": [
    "my_str[2]"
   ]
  },
  {
   "cell_type": "code",
   "execution_count": 149,
   "id": "4a4cae03-f846-499f-b7ee-f6175260b2f9",
   "metadata": {},
   "outputs": [
    {
     "data": {
      "text/plain": [
       "'  python is nice: % ^ @ 1 2 3  i like it '"
      ]
     },
     "execution_count": 149,
     "metadata": {},
     "output_type": "execute_result"
    }
   ],
   "source": [
    "my_str.capitalize()"
   ]
  },
  {
   "cell_type": "code",
   "execution_count": 151,
   "id": "8034325d-534f-489f-9b23-e3b819cdefbb",
   "metadata": {},
   "outputs": [
    {
     "data": {
      "text/plain": [
       "'  python IS nick: % ^ @ 1 2 3  i likk it '"
      ]
     },
     "execution_count": 151,
     "metadata": {},
     "output_type": "execute_result"
    }
   ],
   "source": [
    "my_str.replace(\"e\", \"k\") #e replaced with k"
   ]
  },
  {
   "cell_type": "code",
   "execution_count": 153,
   "id": "77b40f61-24bb-4da5-9eea-a9a3fa885368",
   "metadata": {},
   "outputs": [
    {
     "data": {
      "text/plain": [
       "'pythonISnice:%^@123ilikeit'"
      ]
     },
     "execution_count": 153,
     "metadata": {},
     "output_type": "execute_result"
    }
   ],
   "source": [
    "my_str.replace(\" \", \"\") # space replaced with no space"
   ]
  },
  {
   "cell_type": "code",
   "execution_count": 155,
   "id": "ed6b4360-e13d-4677-b999-143a4aef1854",
   "metadata": {},
   "outputs": [
    {
     "data": {
      "text/plain": [
       "'  PYTHON IS NICE: % ^ @ 1 2 3  I LIKE IT '"
      ]
     },
     "execution_count": 155,
     "metadata": {},
     "output_type": "execute_result"
    }
   ],
   "source": [
    "my_str.upper() # capitalizes all the letters\n",
    "\n",
    "# my_str = my_str_upper()\n",
    "# my_str2 = my_str_upper()\n",
    "\n",
    "# There are some fucntions that are inplace = True by default\n",
    "# What i mean by this is that the change you made is modifying the original\n",
    "# Inplace = True is like you assign the result back to itself"
   ]
  },
  {
   "cell_type": "code",
   "execution_count": 157,
   "id": "6783fb71-10c9-4bf5-b1fe-dc9eef421cc4",
   "metadata": {},
   "outputs": [
    {
     "data": {
      "text/plain": [
       "'  python is nice: % ^ @ 1 2 3  i like it '"
      ]
     },
     "execution_count": 157,
     "metadata": {},
     "output_type": "execute_result"
    }
   ],
   "source": [
    "my_str.lower() #lowers all the letters"
   ]
  },
  {
   "cell_type": "code",
   "execution_count": 165,
   "id": "40c030bb-8d8d-4b54-a649-34b7d74a995a",
   "metadata": {},
   "outputs": [
    {
     "data": {
      "text/plain": [
       "'python'"
      ]
     },
     "execution_count": 165,
     "metadata": {},
     "output_type": "execute_result"
    }
   ],
   "source": [
    "my_str.split()[0] #splits all the values in the list/tuple\n",
    "\n",
    "# once i split my_str, it becomes a list"
   ]
  },
  {
   "cell_type": "code",
   "execution_count": 167,
   "id": "16047e3b-02fc-4dc1-a3b7-69245e13a869",
   "metadata": {},
   "outputs": [
    {
     "data": {
      "text/plain": [
       "'  python IS nice'"
      ]
     },
     "execution_count": 167,
     "metadata": {},
     "output_type": "execute_result"
    }
   ],
   "source": [
    "my_str.split(\":\")[0]"
   ]
  },
  {
   "cell_type": "code",
   "execution_count": 171,
   "id": "82e93bb1-d3a2-46a8-8a7e-abaeee90fc21",
   "metadata": {},
   "outputs": [
    {
     "data": {
      "text/plain": [
       "7"
      ]
     },
     "execution_count": 171,
     "metadata": {},
     "output_type": "execute_result"
    }
   ],
   "source": [
    "my_str.find(\"n\")\n",
    "# character n's index location is 7"
   ]
  },
  {
   "cell_type": "code",
   "execution_count": 173,
   "id": "19d6349a-6279-41fe-b05f-6d9445a80069",
   "metadata": {},
   "outputs": [
    {
     "data": {
      "text/plain": [
       "'python IS nice: % ^ @ 1 2 3  i like it'"
      ]
     },
     "execution_count": 173,
     "metadata": {},
     "output_type": "execute_result"
    }
   ],
   "source": [
    "my_str.strip() "
   ]
  },
  {
   "cell_type": "code",
   "execution_count": 176,
   "id": "3fa1ebd9-cfd2-4aa5-ba66-d0c38c7bb161",
   "metadata": {},
   "outputs": [
    {
     "data": {
      "text/plain": [
       "'  python IS nice: % ^ @ 1 2 3  i like it'"
      ]
     },
     "execution_count": 176,
     "metadata": {},
     "output_type": "execute_result"
    }
   ],
   "source": [
    "my_str.rstrip() "
   ]
  },
  {
   "cell_type": "code",
   "execution_count": 178,
   "id": "9e344b67-ce72-4000-b27e-917b77551d55",
   "metadata": {},
   "outputs": [
    {
     "data": {
      "text/plain": [
       "'python IS nice: % ^ @ 1 2 3  i like it '"
      ]
     },
     "execution_count": 178,
     "metadata": {},
     "output_type": "execute_result"
    }
   ],
   "source": [
    "my_str.lstrip()"
   ]
  },
  {
   "cell_type": "code",
   "execution_count": 180,
   "id": "c003d079-e32a-48b1-b5cd-d826af06d936",
   "metadata": {},
   "outputs": [
    {
     "data": {
      "text/plain": [
       "'  PYTHON is NICE: % ^ @ 1 2 3  I LIKE IT '"
      ]
     },
     "execution_count": 180,
     "metadata": {},
     "output_type": "execute_result"
    }
   ],
   "source": [
    "my_str.swapcase()"
   ]
  },
  {
   "cell_type": "code",
   "execution_count": 182,
   "id": "c356e4f1-9644-4cca-b8f2-6962b9b87b55",
   "metadata": {},
   "outputs": [
    {
     "data": {
      "text/plain": [
       "'  Python Is Nice: % ^ @ 1 2 3  I Like It '"
      ]
     },
     "execution_count": 182,
     "metadata": {},
     "output_type": "execute_result"
    }
   ],
   "source": [
    "my_str.title()"
   ]
  },
  {
   "cell_type": "markdown",
   "id": "0edf4c90-4c31-4f55-84b0-55ba5144cbb1",
   "metadata": {},
   "source": [
    "### list "
   ]
  },
  {
   "cell_type": "code",
   "execution_count": 185,
   "id": "014ef909-eb7c-4a2d-a10e-66cf1358cda6",
   "metadata": {},
   "outputs": [],
   "source": [
    "my_list = [1,2,3,4,5,\"a\", \"b\", \"c\", \"d\", \"e\"]"
   ]
  },
  {
   "cell_type": "code",
   "execution_count": 187,
   "id": "3f5b7c32-05ff-46c7-8282-bd68945a33e3",
   "metadata": {},
   "outputs": [
    {
     "data": {
      "text/plain": [
       "[1, 2, 3, 4, 5, 'a', 'b', 'c', 'd', 'e']"
      ]
     },
     "execution_count": 187,
     "metadata": {},
     "output_type": "execute_result"
    }
   ],
   "source": [
    "my_list"
   ]
  },
  {
   "cell_type": "code",
   "execution_count": 189,
   "id": "59aefd71-92d3-4e75-8046-0a3ca0160145",
   "metadata": {},
   "outputs": [
    {
     "data": {
      "text/plain": [
       "list"
      ]
     },
     "execution_count": 189,
     "metadata": {},
     "output_type": "execute_result"
    }
   ],
   "source": [
    "type(my_list)"
   ]
  },
  {
   "cell_type": "code",
   "execution_count": 191,
   "id": "064d01a8-3212-4f5a-8fde-131b430bac35",
   "metadata": {},
   "outputs": [
    {
     "data": {
      "text/plain": [
       "'e'"
      ]
     },
     "execution_count": 191,
     "metadata": {},
     "output_type": "execute_result"
    }
   ],
   "source": [
    "my_list.pop()\n",
    "# pop function iin list is an inplace = True operation \n",
    "\n",
    "# Even though i didn't assign it back to itself, it gave me the modifyed list\n",
    "# What i mean by assigning back to itself is this:  my_list = my_list.pop()"
   ]
  },
  {
   "cell_type": "code",
   "execution_count": 193,
   "id": "a3f2bd9a-64bf-43a8-9906-7b9329f2c989",
   "metadata": {},
   "outputs": [
    {
     "data": {
      "text/plain": [
       "[1, 2, 3, 4, 5, 'a', 'b', 'c', 'd']"
      ]
     },
     "execution_count": 193,
     "metadata": {},
     "output_type": "execute_result"
    }
   ],
   "source": [
    "my_list"
   ]
  },
  {
   "cell_type": "code",
   "execution_count": 195,
   "id": "729f5901-075f-4aa5-a22d-f38141d369de",
   "metadata": {},
   "outputs": [
    {
     "data": {
      "text/plain": [
       "5"
      ]
     },
     "execution_count": 195,
     "metadata": {},
     "output_type": "execute_result"
    }
   ],
   "source": [
    "my_list.index(\"a\")"
   ]
  },
  {
   "cell_type": "code",
   "execution_count": 197,
   "id": "32408824-5a48-4619-832b-052f6919501f",
   "metadata": {},
   "outputs": [],
   "source": [
    "my_list.append(\"Patrick\")"
   ]
  },
  {
   "cell_type": "code",
   "execution_count": 199,
   "id": "1b9135e2-a6e8-4239-bcbc-ab567ca82027",
   "metadata": {},
   "outputs": [
    {
     "data": {
      "text/plain": [
       "[1, 2, 3, 4, 5, 'a', 'b', 'c', 'd', 'Patrick']"
      ]
     },
     "execution_count": 199,
     "metadata": {},
     "output_type": "execute_result"
    }
   ],
   "source": [
    "my_list"
   ]
  },
  {
   "cell_type": "code",
   "execution_count": 202,
   "id": "cfdb3731-e6ed-4ce5-8817-97ad9f97b964",
   "metadata": {},
   "outputs": [],
   "source": [
    "my_list.extend([\"jack\", \"Charli\", \"Julia\"])"
   ]
  },
  {
   "cell_type": "code",
   "execution_count": 204,
   "id": "2f25ea22-8505-43fb-b2f5-1696247ff2ad",
   "metadata": {},
   "outputs": [
    {
     "data": {
      "text/plain": [
       "[1, 2, 3, 4, 5, 'a', 'b', 'c', 'd', 'Patrick', 'jack', 'Charli', 'Julia']"
      ]
     },
     "execution_count": 204,
     "metadata": {},
     "output_type": "execute_result"
    }
   ],
   "source": [
    "my_list"
   ]
  },
  {
   "cell_type": "markdown",
   "id": "0c674109-7bd7-4009-8ffb-447a6b364877",
   "metadata": {},
   "source": [
    "### Dictionary "
   ]
  },
  {
   "cell_type": "code",
   "execution_count": 213,
   "id": "41667860-9ed1-44ed-8028-cee313fdb906",
   "metadata": {},
   "outputs": [],
   "source": [
    "my_dict = {\n",
    "    \"Jan\":  \"Julia\",\n",
    "    \"Feb\":  \"Charli\",\n",
    "    \"Mar\":  \"Drew\",\n",
    "    \"Apr\":  \"Jon\"\n",
    "}\n",
    "\n",
    "\n",
    "\"\"\"\n",
    "{\n",
    "\"firstname\": \"Charli\", \n",
    "\"lastname\": \"Bennett\", \n",
    "\"age\": 9,\n",
    "\"Schools\": [\"Morningside, Morningside, Wyatt, TCC, PV, UTA],\n",
    "\"Grades\": {\"abc primary school\": {\"first grade\": {\"English Class\": 90, \"Math Class\": 100}}}\n",
    "\n",
    "}\n",
    "\n",
    "\"\"\""
   ]
  },
  {
   "cell_type": "code",
   "execution_count": 215,
   "id": "9706f3e1-e068-4d6b-b245-3bc20ae66974",
   "metadata": {},
   "outputs": [
    {
     "data": {
      "text/plain": [
       "dict"
      ]
     },
     "execution_count": 215,
     "metadata": {},
     "output_type": "execute_result"
    }
   ],
   "source": [
    "type(my_dict)"
   ]
  },
  {
   "cell_type": "code",
   "execution_count": 227,
   "id": "6b65134b-b93d-4774-afd8-f96679decac1",
   "metadata": {},
   "outputs": [
    {
     "data": {
      "text/plain": [
       "{'firstname': 'Charli',\n",
       " 'lastname': 'Bennett',\n",
       " 'age': 9,\n",
       " 'Schools': ['MorningsideES', 'MorningsideMS', 'Wyatt', 'TCC', 'PV', 'UTA'],\n",
       " 'Grades': [{'abc primary school': {'first grade': {'English Class': 90,\n",
       "     'Math Class': 100}}},\n",
       "  {'def secondary school': {'fifth grade': {'english class': 70}}}]}"
      ]
     },
     "execution_count": 227,
     "metadata": {},
     "output_type": "execute_result"
    }
   ],
   "source": [
    "{\n",
    "\"firstname\": \"Charli\", \n",
    "\"lastname\": \"Bennett\", \n",
    "\"age\": 9,\n",
    "\"Schools\": [\"MorningsideES\", \"MorningsideMS\", \"Wyatt\", \"TCC\", \"PV\", \"UTA\"],\n",
    "\"Grades\": [ {\"abc primary school\": \n",
    "           {\"first grade\": \n",
    "            {\"English Class\": 90, \n",
    "             \"Math Class\": 100\n",
    "            }\n",
    "        }\n",
    "    },\n",
    "        {\"def secondary school\":\n",
    "         {\"fifth grade\":\n",
    "          {\"english class\": 70\n",
    "          }\n",
    "         }\n",
    "        }\n",
    "          ]\n",
    "}"
   ]
  },
  {
   "cell_type": "code",
   "execution_count": 229,
   "id": "922fa7f0-bd4c-438e-bbd4-4ef7df7fb85b",
   "metadata": {},
   "outputs": [
    {
     "data": {
      "text/plain": [
       "dict"
      ]
     },
     "execution_count": 229,
     "metadata": {},
     "output_type": "execute_result"
    }
   ],
   "source": [
    "type(my_dict)"
   ]
  },
  {
   "cell_type": "code",
   "execution_count": 231,
   "id": "e7e6829d-b946-4cb5-8ba9-95355e05f552",
   "metadata": {},
   "outputs": [
    {
     "data": {
      "text/plain": [
       "dict_keys(['Jan', 'Feb', 'Mar', 'Apr'])"
      ]
     },
     "execution_count": 231,
     "metadata": {},
     "output_type": "execute_result"
    }
   ],
   "source": [
    "my_dict.keys() "
   ]
  },
  {
   "cell_type": "code",
   "execution_count": 233,
   "id": "75ce156a-69b4-44d3-ade4-1fd45d4f58cb",
   "metadata": {},
   "outputs": [
    {
     "data": {
      "text/plain": [
       "dict_values(['Julia', 'Charli', 'Drew', 'Jon'])"
      ]
     },
     "execution_count": 233,
     "metadata": {},
     "output_type": "execute_result"
    }
   ],
   "source": [
    "my_dict.values()"
   ]
  },
  {
   "cell_type": "code",
   "execution_count": 235,
   "id": "5717cd94-8c38-4172-9f34-c2aa320bb96b",
   "metadata": {},
   "outputs": [
    {
     "data": {
      "text/plain": [
       "dict_items([('Jan', 'Julia'), ('Feb', 'Charli'), ('Mar', 'Drew'), ('Apr', 'Jon')])"
      ]
     },
     "execution_count": 235,
     "metadata": {},
     "output_type": "execute_result"
    }
   ],
   "source": [
    "my_dict.items() "
   ]
  },
  {
   "cell_type": "code",
   "execution_count": 239,
   "id": "c888136c-7f0f-45c2-ac60-dc7c7eeb4f4c",
   "metadata": {},
   "outputs": [
    {
     "data": {
      "text/plain": [
       "'Jon'"
      ]
     },
     "execution_count": 239,
     "metadata": {},
     "output_type": "execute_result"
    }
   ],
   "source": [
    "my_dict[\"Apr\"] "
   ]
  },
  {
   "cell_type": "markdown",
   "id": "d0a80f82-2534-4578-be78-45bf1fcedf75",
   "metadata": {},
   "source": [
    "### For Loop "
   ]
  },
  {
   "cell_type": "code",
   "execution_count": null,
   "id": "cb80703b-8401-4e8a-9868-6144371b36ee",
   "metadata": {},
   "outputs": [],
   "source": [
    "\"\"\"\n",
    "for x in iterable: \n",
    "    someocde (condition) \n",
    "\n",
    "x is your iteration point; it is a placeholder\n",
    "iterable is the thing that you want to iterate through \n",
    "somecode is whatever you want to do\n",
    "\n",
    "for key, value in iterable:\n",
    "    somecode (Condition)\n",
    "\n",
    "key and value are iteration points from a dictionary\n",
    "\n",
    "\n",
    "\n",
    "\"\"\""
   ]
  },
  {
   "cell_type": "code",
   "execution_count": 242,
   "id": "8f2275ec-0500-47e2-8f31-3a8672766670",
   "metadata": {},
   "outputs": [
    {
     "data": {
      "text/plain": [
       "range(0, 5)"
      ]
     },
     "execution_count": 242,
     "metadata": {},
     "output_type": "execute_result"
    }
   ],
   "source": [
    "range(5)"
   ]
  },
  {
   "cell_type": "code",
   "execution_count": 244,
   "id": "77238142-03c2-4ffc-9965-af1f5e545534",
   "metadata": {},
   "outputs": [
    {
     "data": {
      "text/plain": [
       "[0, 1, 2, 3, 4]"
      ]
     },
     "execution_count": 244,
     "metadata": {},
     "output_type": "execute_result"
    }
   ],
   "source": [
    "list(range(5))"
   ]
  },
  {
   "cell_type": "code",
   "execution_count": 248,
   "id": "1832e2ee-3397-4f56-a49c-a8c92829e62a",
   "metadata": {},
   "outputs": [
    {
     "name": "stdout",
     "output_type": "stream",
     "text": [
      "0\n",
      "1\n",
      "2\n",
      "3\n",
      "4\n"
     ]
    }
   ],
   "source": [
    "for x in range(5):\n",
    "    print(x) "
   ]
  },
  {
   "cell_type": "code",
   "execution_count": 250,
   "id": "113e9aee-ee02-484e-9509-aba5f30f64e8",
   "metadata": {},
   "outputs": [
    {
     "name": "stdout",
     "output_type": "stream",
     "text": [
      "D\n",
      "a\n",
      "l\n",
      "l\n",
      "a\n",
      "s\n"
     ]
    }
   ],
   "source": [
    "city = \"Dallas\" \n",
    "\n",
    "for x in city: \n",
    "    print(x) "
   ]
  },
  {
   "cell_type": "markdown",
   "id": "613f03ab-9657-4600-aaa7-33300c198f6d",
   "metadata": {},
   "source": [
    "### if Else Statement "
   ]
  },
  {
   "cell_type": "code",
   "execution_count": 253,
   "id": "b5476867-46f5-498c-925c-c540cedf544b",
   "metadata": {},
   "outputs": [
    {
     "data": {
      "text/plain": [
       "' \\n\\nIf some condition: \\n    some code\\n\\n\\n'"
      ]
     },
     "execution_count": 253,
     "metadata": {},
     "output_type": "execute_result"
    }
   ],
   "source": [
    "\"\"\" \n",
    "\n",
    "If some condition: \n",
    "    some code\n",
    "\n",
    "elif some other conditon:\n",
    "        some more code\n",
    "    \n",
    "else:\n",
    "    some more more code\n",
    "\n",
    "\"\"\""
   ]
  },
  {
   "cell_type": "code",
   "execution_count": 255,
   "id": "4350f9ef-4cda-490d-85c1-673b5d4f007a",
   "metadata": {},
   "outputs": [
    {
     "name": "stdout",
     "output_type": "stream",
     "text": [
      "yeah, x is 1\n"
     ]
    }
   ],
   "source": [
    "x = 1 \n",
    "y = 10\n",
    "\n",
    "if x == 1: \n",
    "    print(\"yeah, x is 1\")\n",
    "    "
   ]
  },
  {
   "cell_type": "code",
   "execution_count": 257,
   "id": "9c160c42-0279-47ec-abb4-bbe7f4676f9f",
   "metadata": {},
   "outputs": [
    {
     "name": "stdout",
     "output_type": "stream",
     "text": [
      "all failed, I am here now\n"
     ]
    }
   ],
   "source": [
    "if x == 7:\n",
    "    print(\" y is 10\")\n",
    "elif y == 11:\n",
    "    print(\"y is 10\")\n",
    "else: \n",
    "    print(\"all failed, I am here now\")"
   ]
  },
  {
   "cell_type": "code",
   "execution_count": null,
   "id": "e7244a7f-d5bb-4c60-bc2c-c3fc16483bcb",
   "metadata": {},
   "outputs": [],
   "source": [
    "if x > 7:\n",
    "    print(\" y is 10\")\n",
    "elif y < 11:\n",
    "    print(\"y is 10\")\n",
    "else: \n",
    "    print(\"all failed, I am here now\")"
   ]
  },
  {
   "cell_type": "code",
   "execution_count": null,
   "id": "a2f93b4c-3646-4219-a754-410a0aaa1669",
   "metadata": {},
   "outputs": [],
   "source": [
    "if x >= 7:\n",
    "    print(\" y is 10\")\n",
    "elif y <= 11:\n",
    "    print(\"y is 10\")\n",
    "else: \n",
    "    print(\"all failed, I am here now\")"
   ]
  },
  {
   "cell_type": "code",
   "execution_count": null,
   "id": "7646c240-bd05-4c81-b336-5a8673ccd80c",
   "metadata": {},
   "outputs": [],
   "source": []
  },
  {
   "cell_type": "code",
   "execution_count": null,
   "id": "995cbf4a-8e7e-4f6a-911b-269db170499f",
   "metadata": {},
   "outputs": [],
   "source": []
  },
  {
   "cell_type": "code",
   "execution_count": null,
   "id": "3a1f4ff7-081f-421f-8098-6d94e3c13781",
   "metadata": {},
   "outputs": [],
   "source": []
  },
  {
   "cell_type": "code",
   "execution_count": null,
   "id": "d7d12579-74b3-4dd0-9ec1-6e0b72716d05",
   "metadata": {},
   "outputs": [],
   "source": []
  },
  {
   "cell_type": "code",
   "execution_count": null,
   "id": "dffc470b-4722-4474-91cb-7eb2ca362dec",
   "metadata": {},
   "outputs": [],
   "source": []
  },
  {
   "cell_type": "code",
   "execution_count": null,
   "id": "5d0b2bf7-e362-4ae1-abb1-140a5facfd2b",
   "metadata": {},
   "outputs": [],
   "source": []
  },
  {
   "cell_type": "code",
   "execution_count": null,
   "id": "11c59b6c-b3a1-4b04-9816-240199f6c7d5",
   "metadata": {},
   "outputs": [],
   "source": []
  }
 ],
 "metadata": {
  "kernelspec": {
   "display_name": "Python [conda env:base] *",
   "language": "python",
   "name": "conda-base-py"
  },
  "language_info": {
   "codemirror_mode": {
    "name": "ipython",
    "version": 3
   },
   "file_extension": ".py",
   "mimetype": "text/x-python",
   "name": "python",
   "nbconvert_exporter": "python",
   "pygments_lexer": "ipython3",
   "version": "3.12.7"
  }
 },
 "nbformat": 4,
 "nbformat_minor": 5
}
